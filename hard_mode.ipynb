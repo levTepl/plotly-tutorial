{
 "cells": [
  {
   "cell_type": "code",
   "execution_count": null,
   "metadata": {},
   "outputs": [],
   "source": [
    "import plotly\n",
    "from plotly import graph_objects as go\n",
    "import plotly.figure_factory as ff\n",
    "import numpy as np\n",
    "import pandas as pd"
   ]
  },
  {
   "cell_type": "markdown",
   "metadata": {},
   "source": [
    "# Prepare data"
   ]
  },
  {
   "cell_type": "code",
   "execution_count": null,
   "metadata": {},
   "outputs": [],
   "source": [
    "df = pd.read_csv('log.csv')"
   ]
  },
  {
   "cell_type": "code",
   "execution_count": null,
   "metadata": {},
   "outputs": [],
   "source": [
    "df.head()"
   ]
  },
  {
   "cell_type": "code",
   "execution_count": null,
   "metadata": {},
   "outputs": [],
   "source": [
    "detections = np.round((df['Q:detection']/ 100) * df[\"Ref\"]).astype(int)\n",
    "recognitions = np.round((df['Q: Recognition']/ 100) * df[\"Ref\"]).astype(int)"
   ]
  },
  {
   "cell_type": "code",
   "execution_count": null,
   "metadata": {},
   "outputs": [],
   "source": [
    "detection_text = ['detected: {} / {}<br>commit msg: {}<br>user: {}'.format(dets, ref, 'ENH: commit', 'foo@bar.com')\n",
    "                  for dets, ref in zip(detections, df['Ref'])]\n",
    "recognition_text = ['recognized: {} / {}<br>commit msg: {}<br>user: {}'.format(recs, ref, 'ENH: commit', 'foo@bar.com')\n",
    "                  for recs, ref in zip(recognitions, df['Ref'])]\n",
    "summary_text = ['ghosts: {}<br>losts: {}<br>ref: {}<br>commit msg: {}<br>user: {}'.format(g, l, r, 'ENH: commit', 'foo@bar.com')\n",
    "                  for g, l,r in zip(df['Ghosts'], df['Losts'], df['Ref'])]"
   ]
  },
  {
   "cell_type": "markdown",
   "metadata": {},
   "source": [
    "# gen plot & save as html"
   ]
  },
  {
   "cell_type": "code",
   "execution_count": null,
   "metadata": {},
   "outputs": [],
   "source": [
    "fig = make_subplots(\n",
    "    rows=3, cols=1,\n",
    "    subplot_titles=(\"Detection quality\", \"Recognition quality\", \"Summary\"))\n",
    "fig.append_trace(\n",
    "    go.Scatter(x=df['date'], y=df['Q:detection'], mode='lines+markers', name='Q:detection',\n",
    "        hoverinfo = 'text',\n",
    "        hovertext = detection_text),\n",
    "    row=1, col=1\n",
    ")\n",
    "fig.append_trace(\n",
    "    go.Scatter(x=df['date'], y=df['Q: Recognition'], mode='lines+markers', name='Q: Recognition',\n",
    "        hoverinfo = 'text',\n",
    "        hovertext = recognition_text),\n",
    "    row=2, col=1\n",
    ")\n",
    "fig.append_trace(\n",
    "    go.Scatter(x=df['date'], y=df['Q: Summary'], mode='lines+markers', name='Q: Summary',\n",
    "        hoverinfo = 'text',\n",
    "        hovertext = summary_text),\n",
    "    row=3, col=1\n",
    ")\n",
    "fig.update_layout(\n",
    "    title=\"System quality over time\",\n",
    "    yaxis_title=\"Quality, %\",\n",
    ")\n",
    "fig.write_html('fancy_pic.html')"
   ]
  },
  {
   "cell_type": "code",
   "execution_count": null,
   "metadata": {},
   "outputs": [],
   "source": []
  }
 ],
 "metadata": {
  "kernelspec": {
   "display_name": "Python 3",
   "language": "python",
   "name": "python3"
  },
  "language_info": {
   "codemirror_mode": {
    "name": "ipython",
    "version": 3
   },
   "file_extension": ".py",
   "mimetype": "text/x-python",
   "name": "python",
   "nbconvert_exporter": "python",
   "pygments_lexer": "ipython3",
   "version": "3.6.8"
  }
 },
 "nbformat": 4,
 "nbformat_minor": 2
}
